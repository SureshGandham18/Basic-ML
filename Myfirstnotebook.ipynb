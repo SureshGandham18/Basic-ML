{
  "nbformat": 4,
  "nbformat_minor": 0,
  "metadata": {
    "colab": {
      "name": "Myfirstnotebook.ipynb",
      "provenance": [],
      "authorship_tag": "ABX9TyNUmYCRfjRb+gbcOBvya5oi",
      "include_colab_link": true
    },
    "kernelspec": {
      "name": "python3",
      "display_name": "Python 3"
    },
    "language_info": {
      "name": "python"
    }
  },
  "cells": [
    {
      "cell_type": "markdown",
      "metadata": {
        "id": "view-in-github",
        "colab_type": "text"
      },
      "source": [
        "<a href=\"https://colab.research.google.com/github/SureshGandham18/Basic-ML/blob/main/Myfirstnotebook.ipynb\" target=\"_parent\"><img src=\"https://colab.research.google.com/assets/colab-badge.svg\" alt=\"Open In Colab\"/></a>"
      ]
    },
    {
      "cell_type": "markdown",
      "metadata": {
        "id": "q8gbp-gOAnv6"
      },
      "source": [
        "Python program to find the sum of digits of the given number"
      ]
    },
    {
      "cell_type": "code",
      "metadata": {
        "colab": {
          "base_uri": "https://localhost:8080/"
        },
        "id": "ZIdlRKzkAu_M",
        "outputId": "6d5ba7e0-9834-4833-a3d4-40fc11b9a2d8"
      },
      "source": [
        "n = int(input('Enter the number = '))\n",
        "res = 0\n",
        "while n>0:\n",
        " r=n%10\n",
        " res=res+r\n",
        " n=n//10\n",
        "print('Result =',res)"
      ],
      "execution_count": 3,
      "outputs": [
        {
          "output_type": "stream",
          "text": [
            "Enter the number = 123\n",
            "Result = 6\n"
          ],
          "name": "stdout"
        }
      ]
    },
    {
      "cell_type": "markdown",
      "metadata": {
        "id": "bA1wpEgIA4Jp"
      },
      "source": [
        "Python program to determine whether the given number is armstrong number or not"
      ]
    },
    {
      "cell_type": "code",
      "metadata": {
        "colab": {
          "base_uri": "https://localhost:8080/"
        },
        "id": "gPwBRrnqA-1g",
        "outputId": "d3cf2947-77a8-4c19-98d7-24bf56903519"
      },
      "source": [
        "n=input('Enter the number = ')\n",
        "a=int(n)\n",
        "res=0\n",
        "temp=a\n",
        "while a>0:\n",
        " r=a%10\n",
        " res=res+r**len(n)\n",
        " a=a//10\n",
        "if res==temp:\n",
        " print('It is an armstrong number')\n",
        "else:\n",
        " print('It is not an armstrong number')"
      ],
      "execution_count": 5,
      "outputs": [
        {
          "output_type": "stream",
          "text": [
            "Enter the number = 153\n",
            "It is an armstrong number\n"
          ],
          "name": "stdout"
        }
      ]
    },
    {
      "cell_type": "markdown",
      "metadata": {
        "id": "olOqwtpyBcDe"
      },
      "source": [
        "Python program to find the sum of first n natural numbers"
      ]
    },
    {
      "cell_type": "code",
      "metadata": {
        "colab": {
          "base_uri": "https://localhost:8080/"
        },
        "id": "qGvNP9_vBn9A",
        "outputId": "dd09a557-f85f-4cba-a32b-ba6483dc1a41"
      },
      "source": [
        "n=int(input('Enter the number = '))\n",
        "sum = 0\n",
        "for i in range(1,n+1):\n",
        " sum=sum+i\n",
        "print('sum of first',n,'natural numbers is ',sum)"
      ],
      "execution_count": 8,
      "outputs": [
        {
          "output_type": "stream",
          "text": [
            "Enter the number = 6\n",
            "sum of first 6 natural numbers is  21\n"
          ],
          "name": "stdout"
        }
      ]
    }
  ]
}